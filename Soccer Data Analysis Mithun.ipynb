{
 "cells": [
  {
   "cell_type": "markdown",
   "id": "ac88cc47",
   "metadata": {},
   "source": [
    "# Acquire Data\n",
    "\n",
    "\n",
    "Download the data from: https://www.kaggle.com/hugomathien/soccer"
   ]
  },
  {
   "attachments": {},
   "cell_type": "markdown",
   "id": "de252415",
   "metadata": {},
   "source": [
    "# Ask Questions\n",
    "\n",
    "Finally, how do I use this information\n",
    "to form strong teams?\n",
    "\n",
    "To go even further, we need to ask ourselves,\n",
    "why do I want to know about strong teams,\n",
    "or what is the benefits of using analytics?\n",
    "\n",
    "In fact, one of the most critical questions\n",
    "you can ask yourself is,\n",
    "why am I doing data science in this problem?\n",
    "What insights do I expect?\n",
    "\n",
    "\n",
    "1.Form meaningful player groups,\n",
    "discover other players that are similar\n",
    "to your favorite athlete,\n",
    "and form strong teams by using analytics?\n",
    "2. "
   ]
  },
  {
   "cell_type": "code",
   "execution_count": 1,
   "id": "93ed174d",
   "metadata": {},
   "outputs": [],
   "source": [
    "import sqlite3    # for interacting with local relational database\n",
    "import pandas as pd  # data ingestion\n",
    "import numpy as np   # data manupulation arrays,matrix, vector \n",
    "import matplotlib.pyplot as plt     # FO data visualization\n",
    "from sklearn.cluster import KMeans    #\n",
    "from sklearn.preprocessing import scale\n",
    "from customplot import *\n"
   ]
  },
  {
   "cell_type": "code",
   "execution_count": null,
   "id": "441083e6",
   "metadata": {},
   "outputs": [],
   "source": []
  }
 ],
 "metadata": {
  "kernelspec": {
   "display_name": "Python 3",
   "language": "python",
   "name": "python3"
  },
  "language_info": {
   "codemirror_mode": {
    "name": "ipython",
    "version": 3
   },
   "file_extension": ".py",
   "mimetype": "text/x-python",
   "name": "python",
   "nbconvert_exporter": "python",
   "pygments_lexer": "ipython3",
   "version": "3.9.4"
  }
 },
 "nbformat": 4,
 "nbformat_minor": 5
}
